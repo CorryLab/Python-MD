{
 "cells": [
  {
   "cell_type": "code",
   "execution_count": 1,
   "id": "dba470db",
   "metadata": {},
   "outputs": [],
   "source": [
    "import sys, os, glob\n",
    "import numpy as np\n",
    "import scipy as sc\n",
    "from glob import glob\n",
    "\n",
    "\n",
    "from scipy.spatial.distance import euclidean as distance\n",
    "# These are both suppose to compute a distance matrix, but cdist does not seem to return the right size\n",
    "from scipy.spatial.distance import cdist as sc_distmatrix\n",
    "from scipy.spatial import distance_matrix\n",
    "\n",
    "\n",
    "from scipy.stats import maxwell\n",
    "import matplotlib.pyplot as plt\n",
    "from itertools import product"
   ]
  },
  {
   "cell_type": "code",
   "execution_count": 2,
   "id": "eacfe799",
   "metadata": {},
   "outputs": [],
   "source": [
    "coulconst = sc.constants.physical_constants['conventional value of coulomb-90'][0]"
   ]
  },
  {
   "cell_type": "markdown",
   "id": "7bcee8f3",
   "metadata": {},
   "source": [
    "# Classes "
   ]
  },
  {
   "cell_type": "markdown",
   "id": "81a330b7",
   "metadata": {},
   "source": [
    "## Simulation"
   ]
  },
  {
   "cell_type": "code",
   "execution_count": 3,
   "id": "c108d1f3",
   "metadata": {},
   "outputs": [],
   "source": [
    "class Simulation:\n",
    "    \n",
    "    \n",
    "    req_param = ['nsteps', 'dt']\n",
    "    \n",
    "\n",
    "\n",
    "    def __init__(self, coords, ff, param, randvel=False):\n",
    "        \n",
    "        self.init_coords, self.atypes = self._parse_coords(coords)\n",
    "        self.ff = self._parse_ff(ff)\n",
    "        self.param = self._parse_param(param) \n",
    "        \n",
    "        \n",
    "        \n",
    "        self.atomlist = [Atom(i, atype, self.init_coords[i], *self.ff[atype]) \n",
    "                         for i, atype in enumerate(self.atypes) ]\n",
    "    \n",
    "        self.natoms = len(self.atomlist)\n",
    "    \n",
    "    \n",
    "        self.randvel = randvel\n",
    "    \n",
    "        self.dt = self.param['dt']\n",
    "    \n",
    "    \n",
    "    \n",
    "    \n",
    "    \n",
    "        ##################################\n",
    "        # Create arrays of atom properties\n",
    "        \n",
    "        self.masses = np.array([atom.mass for atom in self.atomlist]).reshape(self.natoms, 1)\n",
    "        self.sigmas = np.array([[atom.sigma] for atom in self.atomlist]).reshape(self.natoms, 1)\n",
    "        self.epsilons = np.array([[atom.epsilon] for atom in self.atomlist]).reshape(self.natoms, 1)\n",
    "        self.charges = np.array([[atom.charge] for atom in self.atomlist]).reshape(self.natoms, 1)\n",
    "        self.charge_matrix = self.charges * self.charges.T\n",
    "    \n",
    "    \n",
    "    \n",
    "    \n",
    "    #######################\n",
    "    ### variable parsing:\n",
    "    def _parse_coords(self, coords ):\n",
    "        # Should input a dct or file, and format it into a dictionary for .run()\n",
    "        # The dict sjould have keys for the atom names and their coords\n",
    "        return coords['coords'], coords['names']\n",
    "        \n",
    "    def _parse_param(self, param):\n",
    "        \n",
    "        for parm in self.req_param:\n",
    "            if parm not in param:\n",
    "                raise Exception('{parm} was not in the param dict')\n",
    "        \n",
    "        return param\n",
    "          \n",
    "    def _parse_ff(self, ff):\n",
    "        # Input can be dict or file, this should format it into a dictionary (or ff obj?)\n",
    "        # Dict should be keys of atom types, with a list of the [mass, charge, sigma, epsilon]\n",
    "        \n",
    "        for atype in self.atypes:\n",
    "            if atype not in ff.keys():\n",
    "                raise Exception('Atom type: {atype} was not found in the ff')\n",
    "                \n",
    "        return ff\n",
    "        \n",
    "        \n",
    "    #######################################################################           \n",
    "    \n",
    "    def run(self, skip=1):\n",
    "        \n",
    "        # prev: t\n",
    "        # New : t + dt\n",
    "\n",
    "        \n",
    "        self.traj = []\n",
    "        self.ftraj = []\n",
    "        \n",
    "        \n",
    "        ###################################\n",
    "        # Initialize positions, velocities, and forces\n",
    "        prev_vels = self.gen_velocities()\n",
    "        prev_xyz = self.init_coords\n",
    "        \n",
    "        prev_forces = self.update_forces(prev_xyz)\n",
    "\n",
    "        \n",
    "        \n",
    "        ###################\n",
    "        # Main traj loop.\n",
    "        for step in np.arange(0, self.param['nsteps'], 1):\n",
    "            \n",
    "            new_xyz = self.update_xyz(prev_xyz, prev_forces, prev_vels)\n",
    "            \n",
    "            new_forces = self.update_forces(new_xyz)\n",
    "            \n",
    "            new_vels = self.update_vels(prev_forces, new_forces, prev_vels)\n",
    "        \n",
    "\n",
    "            # Save values for trajectory   \n",
    "            if step % skip == 0:\n",
    "                self.traj.append(new_xyz)\n",
    "                self.ftraj.append(new_forces)\n",
    "    \n",
    "    \n",
    "            # Reset for next loop\n",
    "            prev_xyz = new_xyz\n",
    "            prev_forces = new_forces\n",
    "            prev_vels = new_vels\n",
    "            \n",
    "        print(f'Completed {step} steps')\n",
    "    \n",
    "    \n",
    "    def update_xyz(self, prev_xyz, prev_forces, prev_vels):\n",
    "        self.next_xyz = prev_xyz + self.dt * prev_vels + ((self.dt ** 2) / 2 * self.masses) * prev_forces\n",
    "        return self.next_xyz\n",
    "    \n",
    "    def update_vels(self, prev_forces, new_forces, prev_vels):\n",
    "        self.new_vels = prev_vels + (self.dt / 2 * self.masses) * (prev_forces + new_forces)\n",
    "        return self.new_vels\n",
    "    \n",
    "    \n",
    "    def update_forces(self, xyz):\n",
    "        \n",
    "            ###################################\n",
    "            # Calculate distances\n",
    "            # Using scipy func\n",
    "            # Scipy also has neighbour searching algs\n",
    "       \n",
    "            # natoms * natoms matrix\n",
    "            self.distances = sc_distmatrix(xyz, xyz)\n",
    "            \n",
    "            # The diagonal is masked with nan as atom i=j, dist=0. This supresses div/0 warnings)\n",
    "            self.distances[np.diag_indices(self.natoms)] = np.nan \n",
    "            \n",
    "            \n",
    "            \n",
    "            ##############################\n",
    "            # Calculate interactions\n",
    "            \n",
    "            # lennard jones energy\n",
    "#             The 12 6 eq calcs the ptential E. Derivative must be taken to get the F\n",
    "            self.lj_f = self.calc_lj(self.epsilons, self.sigmas, self.distances)\n",
    "            \n",
    "            \n",
    "            \n",
    "            # Electrostatics\n",
    "            self.coul_f = coulconst * ( (self.charge_matrix) / (self.distances ** 2))\n",
    "            \n",
    "            # Sum forces on atom pairs\n",
    "            # natoms * natoms\n",
    "            self.pairwise_forces = self.coul_f + self.lj_f\n",
    "            \n",
    "            \n",
    "            \n",
    "            ################################\n",
    "            # Force decomposition\n",
    "            # Find the unit vector of the distance vector, then multiple by force\n",
    "            # The distance vector is difference in the coord vectors of atoms i, j\n",
    "            \n",
    "            # Duplicate the coord vectors, so a natoms * natoms * 3 matrix can be formed\n",
    "            #          \n",
    "            # i1 ---   |||\n",
    "            # i2 --- * |||\n",
    "            # i3 ---   |||\n",
    "            \n",
    "            # This is so each coord vector is able to be subtracted against every other\n",
    "\n",
    "            self.xyz1 = np.tile(xyz, self.natoms).reshape(self.natoms, self.natoms, 3)\n",
    "            self.xyz2 = np.rot90(self.xyz1, axes=(0,1))\n",
    "            \n",
    "            # Should be a natoms * natoms * 3 matrix. \n",
    "            # Reshaping is to append 1d\n",
    "            self.f_decomposed = (self.xyz1 - self.xyz2 ) / self.distances.reshape(self.natoms, self.natoms, 1) * self.pairwise_forces.reshape(self.natoms, self.natoms, 1)\n",
    "            \n",
    "            # Sum across atoms to get total F on each atom. natoms * 3 matrix\n",
    "            self.new_forces = np.sum(np.nan_to_num(self.f_decomposed), axis=1)\n",
    "                \n",
    "            return self.new_forces\n",
    "        \n",
    "        \n",
    "\n",
    "    \n",
    "    # inputs must be array of size (natoms, 1) and (natoms, natoms)\n",
    "    def calc_lj(self, e, sig, dists):\n",
    "        \n",
    "        difference = 0.0001\n",
    "        close_dists = dists + difference\n",
    "        \n",
    "        \n",
    "               \n",
    "        V1 = 4 * e * (  (sig / dists ) ** 12   -   ( sig / dists  ) ** 6  )\n",
    "        V2 = 4 * e * (  (sig / close_dists ) ** 12   -   ( sig / close_dists  ) ** 6  )\n",
    "        \n",
    "        Vdiff = V2 - V1\n",
    "        \n",
    "        return Vdiff / difference\n",
    "        \n",
    "        \n",
    "    \n",
    "    # What about the temperature???\n",
    "    # Only positive nums returned\n",
    "    def gen_velocities(self,):\n",
    "        \n",
    "        if self.randvel == True:\n",
    "        \n",
    "        \n",
    "            velsx = maxwell.rvs(size=len(self.atomlist))\n",
    "            velsy = maxwell.rvs(size=len(self.atomlist))\n",
    "            velsz = maxwell.rvs(size=len(self.atomlist))\n",
    "            \n",
    "            vels = np.array(list(zip(velsx, velsy, velsz)))\n",
    "            \n",
    "            return  vels\n",
    "        \n",
    "        else:\n",
    "            return np.array([[0,0,0] * self.natoms]).reshape(self.natoms, 3)\n",
    "        \n",
    "\n",
    "    \n",
    "    # outputs xyz format\n",
    "    def output_traj(self, fname ):\n",
    "        f = open(fname, 'w')\n",
    "\n",
    "        for frame in self.traj:\n",
    "            f.write(str(self.natoms)+ '\\n')\n",
    "            f.write('\\n')\n",
    "            for i, atom, in enumerate(self.atomlist): \n",
    "                f.write(f'{atom.atype} {frame[i][0]} {frame[i][1]} {frame[i][2]} \\n')\n",
    "            \n",
    "                \n",
    "        f.close()\n",
    "        \n",
    "        \n",
    "        \n",
    "    \n",
    "    \n",
    "class Atom:\n",
    "    def __init__(self, index, atype, xyz, mass, charge, sigma, epsilon):\n",
    "        \n",
    "        self.index = index\n",
    "        self.atype = atype\n",
    "        \n",
    "        self.xyz = xyz\n",
    "        self.mass = mass\n",
    "        self.charge = charge\n",
    "        self.sigma = sigma\n",
    "        self.epsilon = epsilon\n",
    "        \n",
    "        self.prevxyz = self.xyz\n",
    "        self.vel = None\n",
    "        self.prevel = None"
   ]
  },
  {
   "cell_type": "markdown",
   "id": "c732a75b",
   "metadata": {},
   "source": [
    "## Auxillary functions"
   ]
  },
  {
   "cell_type": "code",
   "execution_count": 4,
   "id": "b7dc65fb",
   "metadata": {},
   "outputs": [],
   "source": [
    "def gen_rand_coords(n_atoms, scaling, atypes):\n",
    "    \n",
    "       \n",
    "    structure_dict = {\n",
    "        'names': atypes * n_atoms,\n",
    "        'coords':  np.random.random((len(atypes) * n_atoms, 3)) * scaling ,\n",
    "    }\n",
    "        \n",
    "    return structure_dict\n",
    "    "
   ]
  },
  {
   "cell_type": "code",
   "execution_count": 5,
   "id": "7369b60c",
   "metadata": {},
   "outputs": [],
   "source": [
    "\n",
    "# Gen cube system\n",
    "\n",
    "def gen_cube(spacing, natoms_in_dim, motif):\n",
    "\n",
    "    args = [0, natoms_in_dim * spacing, spacing]\n",
    "    tups =  list(product(np.arange(*args), np.arange(*args), np.arange(*args)))\n",
    "    coords = [list(tup) for tup in tups]\n",
    "    \n",
    "    Cube = {\n",
    "        'names' : motif * int(natoms_in_dim / len(motif))   * natoms_in_dim * natoms_in_dim,\n",
    "        'coords': coords,\n",
    "        \n",
    "    }\n",
    "    return Cube"
   ]
  },
  {
   "cell_type": "markdown",
   "id": "b216157b",
   "metadata": {},
   "source": [
    "## Play space"
   ]
  },
  {
   "cell_type": "markdown",
   "id": "baaab4ed",
   "metadata": {},
   "source": [
    "### Parameters and things"
   ]
  },
  {
   "cell_type": "code",
   "execution_count": 15,
   "id": "9c6483f7",
   "metadata": {},
   "outputs": [],
   "source": [
    "# Systems\n",
    "\n",
    "# Salt cube\n",
    "cube = gen_cube(2.5, 4, ['Na', 'Cl'])\n",
    "\n",
    "\n",
    "# Salt line\n",
    "line = {\n",
    "    'names': ['Na', 'Cl', 'Na', 'Cl'],\n",
    "    'coords':np.array([[0,0,0],[1,0,0], [2,0,0], [3,0,0]])\n",
    "}\n",
    "\n",
    "\n",
    "# Na - Cl two atoms\n",
    "nacl = {\n",
    "    'names': ['Na', 'Cl',],\n",
    "    'coords': np.array([[0,0,0],[5,0,0],])\n",
    "}"
   ]
  },
  {
   "cell_type": "code",
   "execution_count": 22,
   "id": "ce382f8c",
   "metadata": {},
   "outputs": [],
   "source": [
    "# Atomname: [mass, charge, sigma, epsilon]\n",
    "# Format not great if connectivity was introduced\n",
    "\n",
    "realff = {\n",
    "    \n",
    "    \n",
    "        'LJ':[23.0, 0, 0.22, 0.13],\n",
    "        'Na':[23.0, 1, 0.22, 0.13],\n",
    "        'Cl':[35.45, -1, 0.22, 0.13],\n",
    "}\n",
    "\n",
    "funff = {\n",
    "    \n",
    "    'LJ':[23, 0, 0.5, 1000],\n",
    "    'Na':[23, 1, 0.5, 10],\n",
    "    'Cl':[35.45, -1, 0.5, 10],\n",
    "    \n",
    "    \n",
    "}\n",
    " \n",
    "param = {\n",
    "    \n",
    "    'dt': 0.01,\n",
    "    'nsteps': 10000,\n",
    "    \n",
    "    \n",
    "    \n",
    "}\n",
    "\n"
   ]
  },
  {
   "cell_type": "markdown",
   "id": "2214574c",
   "metadata": {},
   "source": [
    "### Run"
   ]
  },
  {
   "cell_type": "code",
   "execution_count": 23,
   "id": "228b2a3f",
   "metadata": {},
   "outputs": [],
   "source": [
    "system = cube\n",
    "s = Simulation(system, realff, param, randvel = False)"
   ]
  },
  {
   "cell_type": "code",
   "execution_count": 24,
   "id": "b804e8c0",
   "metadata": {},
   "outputs": [
    {
     "name": "stdout",
     "output_type": "stream",
     "text": [
      "Completed 9999 steps\n"
     ]
    }
   ],
   "source": [
    "s.run(skip=10)"
   ]
  },
  {
   "cell_type": "code",
   "execution_count": 25,
   "id": "e9525710",
   "metadata": {},
   "outputs": [
    {
     "data": {
      "text/plain": [
       "[<matplotlib.lines.Line2D at 0x7f3b84d99970>,\n",
       " <matplotlib.lines.Line2D at 0x7f3b84d999d0>]"
      ]
     },
     "execution_count": 25,
     "metadata": {},
     "output_type": "execute_result"
    },
    {
     "data": {
      "image/png": "[encoded data removed]",
      "text/plain": [
       "<Figure size 432x288 with 1 Axes>"
      ]
     },
     "metadata": {
      "needs_background": "light"
     },
     "output_type": "display_data"
    }
   ],
   "source": [
    "nacl_traj = [ (s.traj[x][:, 0][0], s.traj[x][:, 0][1])  for x in np.arange(0, len(s.traj), 1)]\n",
    "\n",
    "natraj, cltraj = list(zip(*nacl_traj))\n",
    "\n",
    "t = np.arange(0, len(s.traj), 1)\n",
    "plt.plot(t, natraj, t, cltraj)"
   ]
  },
  {
   "cell_type": "code",
   "execution_count": 26,
   "id": "ba474ca3",
   "metadata": {},
   "outputs": [
    {
     "data": {
      "text/plain": [
       "1000"
      ]
     },
     "execution_count": 26,
     "metadata": {},
     "output_type": "execute_result"
    }
   ],
   "source": [
    "len(s.traj)"
   ]
  },
  {
   "cell_type": "code",
   "execution_count": 27,
   "id": "c1b77990",
   "metadata": {},
   "outputs": [],
   "source": [
    "s.output_traj('saltcube.xyz')"
   ]
  },
  {
   "cell_type": "code",
   "execution_count": null,
   "id": "09dbe9ce",
   "metadata": {},
   "outputs": [],
   "source": []
  },
  {
   "cell_type": "markdown",
   "id": "68f84978",
   "metadata": {
    "heading_collapsed": true
   },
   "source": [
    "## 1D Na - Cl system"
   ]
  },
  {
   "cell_type": "code",
   "execution_count": 200,
   "id": "ca1b68be",
   "metadata": {
    "hidden": true
   },
   "outputs": [],
   "source": [
    "# 1D, hard coded Na - Cl system\n",
    "\n",
    "def coulf(const, qq, dist):\n",
    "    return const * ( (qq) / ( dist ** 2))\n",
    "    \n",
    "def ljf(e, sig, dist):\n",
    "    \n",
    "    # To compute force, differentiate by finding gradient between two very close poitns\n",
    "    diff = 0.0001\n",
    "    dist2 = dist +  diff\n",
    "    \n",
    "    V1 = 4 * e * ( ( sig / dist) ** 12 - ( sig / dist ) ** 6 )\n",
    "    V2 = 4 * e * ( ( sig / dist2) ** 12 - ( sig / dist2 ) ** 6 )\n",
    "    \n",
    "    Vdiff = V2 - V1\n",
    "    \n",
    "    return Vdiff / diff\n",
    "    \n",
    "\n",
    "def fdecomp(ai, aj, dist, fsum):\n",
    "    return (ai - aj ) / dist * fsum\n",
    "\n",
    "def newX(x0, v0, dt, m, fdecomp):\n",
    "    return x0 + dt * v0 + (dt ** 2) / 2 * m * fdecomp\n",
    "\n",
    "def newV(v0, dt, m, fold, fnew):\n",
    "    return v0 + dt / 2 * m * (fold + fnew)\n",
    "\n",
    "\n",
    "  \n",
    "    \n",
    "dt =  0.05\n",
    "\n",
    "namass = 23\n",
    "naxyz = 0\n",
    "navel = 0\n",
    "ncurrf = 0\n",
    "na_e = 10\n",
    "na_sig = 2.5\n",
    "natraj = []\n",
    "naf = []\n",
    "\n",
    "clmass = 35.45\n",
    "clxyz = 15\n",
    "clvel = 0\n",
    "ccurrf = 0\n",
    "cl_e = 10\n",
    "cl_sig = 2.5\n",
    "cltraj = []\n",
    "\n",
    "\n",
    "cforces = []\n",
    "ljforces = []\n",
    "dists = []\n",
    "vels = []\n",
    "clf = []\n",
    "\n",
    "dists = []\n",
    "\n",
    "\n",
    "for i in range(0, 1000):\n",
    "    \n",
    "    dist = np.abs(naxyz - clxyz)\n",
    "  \n",
    "    \n",
    "    # Calc forces\n",
    "    # Na:\n",
    "    ncoulf = coulf(coulconst, -1, dist)\n",
    "    nljf = ljf(na_e, na_sig, dist)\n",
    "    nsumf = nljf + ncoulf\n",
    "    nnewf = fdecomp(naxyz, clxyz, dist, nsumf)\n",
    "    \n",
    "    # Cl:\n",
    "    ccoulf = coulf(coulconst, -1, dist)\n",
    "    cljf = ljf(cl_e, cl_sig, dist)\n",
    "    csumf = cljf + ccoulf\n",
    "    cnewf = fdecomp(clxyz, naxyz, dist, csumf)\n",
    "    \n",
    "    \n",
    "    \n",
    "    \n",
    "    # Update pos\n",
    "    # Na:\n",
    "    naxyz = newX(naxyz, navel, dt, namass, nnewf)\n",
    "    navel = newV(navel, dt, namass, nnewf, ncurrf)\n",
    "    ncurrf = nnewf\n",
    "    \n",
    "    # Cl:\n",
    "    clxyz = newX(clxyz, clvel, dt, clmass, cnewf)\n",
    "    clvel = newV(clvel, dt, clmass, cnewf, ccurrf)\n",
    "    ccurrf = cnewf\n",
    "    \n",
    "    \n",
    "    # save results\n",
    "    natraj.append(naxyz)\n",
    "    cltraj.append(clxyz)\n",
    "    naf.append(nnewf)\n",
    "    clf.append(cnewf)\n",
    "    dists.append(dist)\n",
    "    \n",
    "  \n",
    "    \n",
    "    \n",
    "    if  ncurrf > 1:\n",
    "        print(f'crashed at step {i}')\n",
    "        break"
   ]
  },
  {
   "cell_type": "code",
   "execution_count": 201,
   "id": "f60131c8",
   "metadata": {
    "hidden": true
   },
   "outputs": [
    {
     "data": {
      "text/plain": [
       "[<matplotlib.lines.Line2D at 0x7f7366656d30>,\n",
       " <matplotlib.lines.Line2D at 0x7f7366656d90>]"
      ]
     },
     "execution_count": 201,
     "metadata": {},
     "output_type": "execute_result"
    },
    {
     "data": {
      "image/png": "[encoded data removed]",
      "text/plain": [
       "<Figure size 432x288 with 1 Axes>"
      ]
     },
     "metadata": {
      "needs_background": "light"
     },
     "output_type": "display_data"
    }
   ],
   "source": [
    "# Pos vs time\n",
    "t = np.arange(0, len(dists))\n",
    "plt.plot(t, natraj, t, cltraj )"
   ]
  },
  {
   "cell_type": "code",
   "execution_count": 129,
   "id": "871c8b13",
   "metadata": {
    "hidden": true
   },
   "outputs": [
    {
     "data": {
      "text/plain": [
       "[<matplotlib.lines.Line2D at 0x7f7366cfff10>,\n",
       " <matplotlib.lines.Line2D at 0x7f7366cfff70>]"
      ]
     },
     "execution_count": 129,
     "metadata": {},
     "output_type": "execute_result"
    },
    {
     "data": {
      "image/png": "[encoded data removed]",
      "text/plain": [
       "<Figure size 432x288 with 1 Axes>"
      ]
     },
     "metadata": {
      "needs_background": "light"
     },
     "output_type": "display_data"
    }
   ],
   "source": [
    "# Force v time\n",
    "t = np.arange(0, len(dists))\n",
    "plt.plot(t, naf, t, clf )"
   ]
  },
  {
   "cell_type": "code",
   "execution_count": 124,
   "id": "9a973d94",
   "metadata": {
    "hidden": true
   },
   "outputs": [
    {
     "data": {
      "text/plain": [
       "[<matplotlib.lines.Line2D at 0x7f7366e32b50>]"
      ]
     },
     "execution_count": 124,
     "metadata": {},
     "output_type": "execute_result"
    },
    {
     "data": {
      "image/png": "[encoded data removed]",
      "text/plain": [
       "<Figure size 432x288 with 1 Axes>"
      ]
     },
     "metadata": {
      "needs_background": "light"
     },
     "output_type": "display_data"
    }
   ],
   "source": [
    "# dist vs time\n",
    "plt.plot(dists)"
   ]
  },
  {
   "cell_type": "code",
   "execution_count": 140,
   "id": "b4c4aca4",
   "metadata": {
    "hidden": true
   },
   "outputs": [
    {
     "data": {
      "text/plain": [
       "0.0"
      ]
     },
     "execution_count": 140,
     "metadata": {},
     "output_type": "execute_result"
    }
   ],
   "source": [
    "np.sum(np.array(naf) + np.array(clf))"
   ]
  },
  {
   "cell_type": "code",
   "execution_count": 138,
   "id": "eca161f1",
   "metadata": {
    "hidden": true
   },
   "outputs": [
    {
     "data": {
      "text/plain": [
       "0.0"
      ]
     },
     "execution_count": 138,
     "metadata": {},
     "output_type": "execute_result"
    }
   ],
   "source": [
    "naf[0] + clf[0]"
   ]
  },
  {
   "cell_type": "code",
   "execution_count": 137,
   "id": "0ef748d0",
   "metadata": {
    "hidden": true
   },
   "outputs": [
    {
     "name": "stdout",
     "output_type": "stream",
     "text": [
      "0.004101516010558028 -0.004101516010558028\n"
     ]
    }
   ],
   "source": [
    "print(naf[0], clf[0])"
   ]
  },
  {
   "cell_type": "code",
   "execution_count": null,
   "id": "33d3e4f9",
   "metadata": {
    "hidden": true
   },
   "outputs": [],
   "source": []
  },
  {
   "cell_type": "code",
   "execution_count": null,
   "id": "11dcab17",
   "metadata": {
    "hidden": true
   },
   "outputs": [],
   "source": []
  },
  {
   "cell_type": "code",
   "execution_count": null,
   "id": "ed8f8388",
   "metadata": {
    "hidden": true
   },
   "outputs": [],
   "source": []
  },
  {
   "cell_type": "code",
   "execution_count": null,
   "id": "48d5cd08",
   "metadata": {
    "hidden": true
   },
   "outputs": [],
   "source": []
  }
 ],
 "metadata": {
  "kernelspec": {
   "display_name": "Python 3 (ipykernel)",
   "language": "python",
   "name": "python3"
  },
  "language_info": {
   "codemirror_mode": {
    "name": "ipython",
    "version": 3
   },
   "file_extension": ".py",
   "mimetype": "text/x-python",
   "name": "python",
   "nbconvert_exporter": "python",
   "pygments_lexer": "ipython3",
   "version": "3.8.11"
  },
  "toc": {
   "base_numbering": 1,
   "nav_menu": {},
   "number_sections": true,
   "sideBar": true,
   "skip_h1_title": false,
   "title_cell": "Table of Contents",
   "title_sidebar": "Contents",
   "toc_cell": false,
   "toc_position": {},
   "toc_section_display": true,
   "toc_window_display": false
  }
 },
 "nbformat": 4,
 "nbformat_minor": 5
}
